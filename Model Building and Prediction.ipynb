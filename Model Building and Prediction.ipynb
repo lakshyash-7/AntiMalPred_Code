{
 "cells": [
  {
   "cell_type": "code",
   "execution_count": null,
   "id": "e2b045c4",
   "metadata": {
    "metadata": {}
   },
   "outputs": [],
   "source": [
    "import pandas as pd\n",
    "import numpy as np\n",
    "import joblib\n",
    "import matplotlib.pyplot as plt\n",
    "from sklearn.metrics import confusion_matrix, f1_score, auc, accuracy_score, roc_auc_score, precision_score, recall_score, make_scorer, get_scorer, precision_recall_curve, roc_curve\n",
    "from sklearn.model_selection import train_test_split, GridSearchCV, cross_validate\n",
    "from sklearn.ensemble import RandomForestClassifier\n",
    "from sklearn.neural_network import MLPClassifier\n",
    "from sklearn.svm import SVC\n",
    "from dcekit.validation import ApplicabilityDomain"
   ]
  },
  {
   "cell_type": "code",
   "execution_count": null,
   "id": "a29075cb",
   "metadata": {
    "metadata": {}
   },
   "outputs": [],
   "source": [
    "AF = pd.read_csv('./06June_database_merged_part_af.csv')\n",
    "\n",
    "X = AF.drop(columns=['Smiles', 'Activity'])\n",
    "y_with_labels = AF['Activity']\n",
    "\n",
    "y = y_with_labels.map({'Active': 1, 'Inactive': 0})\n",
    "print(y_with_labels)\n",
    "print(y)\n",
    "\n",
    "\n",
    "print(\"Shape of X:\", X.shape)\n",
    "print(\"Shape of y_with_labels:\", y_with_labels.shape)\n",
    "print(\"Shape of y:\", y.shape)"
   ]
  },
  {
   "cell_type": "code",
   "execution_count": null,
   "id": "6609d264",
   "metadata": {
    "metadata": {}
   },
   "outputs": [],
   "source": [
    "X_train, X_test, y_train, y_test = train_test_split(X, y, test_size=0.2, random_state=45, shuffle=True, stratify=y)\n",
    "print(\"Shape of X_train:\", X_train.shape)\n",
    "print(\"Shape of y_train:\", y_train.shape)\n",
    "print(\"Shape of X_test:\", X_test.shape)\n",
    "print(\"Shape of y_test:\", y_test.shape)"
   ]
  },
  {
   "cell_type": "code",
   "execution_count": null,
   "id": "fd4f0ad4",
   "metadata": {
    "metadata": {}
   },
   "outputs": [],
   "source": [
    "model_random_forest = RandomForestClassifier(n_estimators=550, max_depth=30, n_jobs=-1, random_state=25)"
   ]
  },
  {
   "cell_type": "code",
   "execution_count": null,
   "id": "8f11d07c",
   "metadata": {
    "metadata": {}
   },
   "outputs": [],
   "source": [
    "model_SVC = SVC(C=10, gamma=0.01, kernel='rbf', random_state=25)"
   ]
  },
  {
   "cell_type": "code",
   "execution_count": null,
   "id": "e69faae1",
   "metadata": {
    "metadata": {}
   },
   "outputs": [],
   "source": [
    "model_random_forest.fit(X_train, y_train)"
   ]
  },
  {
   "cell_type": "code",
   "execution_count": null,
   "id": "06115d15",
   "metadata": {
    "metadata": {}
   },
   "outputs": [],
   "source": [
    "model_SVC.fit(X_train, y_train)"
   ]
  },
  {
   "cell_type": "code",
   "execution_count": null,
   "id": "e9619659",
   "metadata": {},
   "outputs": [],
   "source": [
    "pred_random_forest = model_random_forest.predict(X_test)\n",
    "pred_SVC = model_SVC.predict(X_test)"
   ]
  },
  {
   "cell_type": "code",
   "execution_count": null,
   "id": "ace8df1a",
   "metadata": {
    "metadata": {}
   },
   "outputs": [],
   "source": [
    "metrics_random_forest = {\n",
    "    'accuracy': accuracy_score(y_test, pred_random_forest),\n",
    "        'precision': precision_score(y_test, pred_random_forest), \n",
    "        'recall': recall_score(y_test, pred_random_forest), \n",
    "        'f1': f1_score(y_test, pred_random_forest),\n",
    "        'roc_auc': roc_auc_score(y_test, pred_random_forest)\n",
    "}\n",
    "\n",
    "for metric_name, metric_value in metrics_random_forest.items():\n",
    "    print(f\"{metric_name}: {metric_value:.4f}\")"
   ]
  },
  {
   "cell_type": "code",
   "execution_count": null,
   "id": "03fd8d67",
   "metadata": {
    "metadata": {}
   },
   "outputs": [],
   "source": [
    "confusion_matrix_RF = confusion_matrix(y_test, pred_random_forest)\n",
    "confusion_matrix_RF"
   ]
  },
  {
   "cell_type": "code",
   "execution_count": null,
   "id": "e35b7298",
   "metadata": {
    "metadata": {}
   },
   "outputs": [],
   "source": [
    "metrics_SVC = {\n",
    "    'accuracy': accuracy_score(y_test, pred_SVC),\n",
    "        'precision': precision_score(y_test, pred_SVC), \n",
    "        'recall': recall_score(y_test, pred_SVC), \n",
    "        'f1': f1_score(y_test, pred_SVC),\n",
    "        'roc_auc': roc_auc_score(y_test, pred_SVC)\n",
    "}\n",
    "\n",
    "for metric_name, metric_value in metrics_SVC.items():\n",
    "    print(f\"{metric_name}: {metric_value:.4f}\")"
   ]
  },
  {
   "cell_type": "code",
   "execution_count": null,
   "id": "f1d1cdef",
   "metadata": {
    "metadata": {}
   },
   "outputs": [],
   "source": [
    "confusion_matrix_SVC = confusion_matrix(y_test, pred_SVC)\n",
    "confusion_matrix_SVC"
   ]
  },
  {
   "cell_type": "code",
   "execution_count": null,
   "id": "c0aeea32",
   "metadata": {},
   "outputs": [],
   "source": [
    "X_copy = X\n",
    "y_copy = y\n",
    "X_train_copy, X_test_copy, y_train_copy, y_test_copy = train_test_split(X_copy, y_copy, test_size=0.2, random_state=0, stratify=y)"
   ]
  },
  {
   "cell_type": "code",
   "execution_count": null,
   "id": "a0fbc1fb",
   "metadata": {},
   "outputs": [],
   "source": [
    "acc_shuffle_RF = []\n",
    "for i in range(10):\n",
    "  # Y-Shuffling\n",
    "  y_train_copy = y_train_copy.sample(frac=1, replace=False, random_state=i)\n",
    "  # Model building\n",
    "  shuffle_RF_model = RandomForestClassifier(n_estimators=450, max_depth=40, n_jobs=-1, random_state=25) \n",
    "  shuffle_RF_model.fit(X_train_copy, y_train_copy)\n",
    "  # Make prediction\n",
    "  shuffle_RF_pred = shuffle_RF_model.predict(X_test_copy)\n",
    "  # Compute R2 score\n",
    "  acc = accuracy_score(y_test_copy, shuffle_RF_pred)\n",
    "  acc_shuffle_RF.append(acc)\n",
    "# Print R2 score\n",
    "acc_shuffle_RF"
   ]
  },
  {
   "cell_type": "code",
   "execution_count": null,
   "id": "86fd7e04",
   "metadata": {},
   "outputs": [],
   "source": [
    "acc_shuffle_SVC = []\n",
    "for i in range(10):\n",
    "  # Y-Shuffling\n",
    "  y_train_copy = y_train_copy.sample(frac=1, replace=False, random_state=i)\n",
    "  # Model building\n",
    "  shuffle_SVC_model = SVC(C=10, gamma=0.01, kernel='rbf', random_state=25) \n",
    "  shuffle_SVC_model.fit(X_train_copy, y_train_copy)\n",
    "  # Make prediction\n",
    "  shuffle_SVC_pred = shuffle_SVC_model.predict(X_test_copy)\n",
    "  # Compute R2 score\n",
    "  acc = accuracy_score(y_test_copy, shuffle_SVC_pred)\n",
    "  acc_shuffle_SVC.append(acc)\n",
    "# Print R2 score\n",
    "acc_shuffle_SVC"
   ]
  },
  {
   "cell_type": "code",
   "execution_count": null,
   "id": "c95b4dc2",
   "metadata": {
    "metadata": {}
   },
   "outputs": [],
   "source": [
    "joblib.dump(model_random_forest, 'RF_model.joblib')\n",
    "joblib.dump(model_SVC, 'SVC_model.joblib')"
   ]
  },
  {
   "cell_type": "markdown",
   "id": "4a60d6f5",
   "metadata": {},
   "source": [
    "Applicability Domain"
   ]
  },
  {
   "cell_type": "code",
   "execution_count": null,
   "id": "1d91c9c4",
   "metadata": {
    "metadata": {}
   },
   "outputs": [],
   "source": [
    "ad_dcekit = ApplicabilityDomain(method_name='knn', rate_of_outliers=0.001, n_neighbors=2)\n",
    "ad_dcekit.fit(X_train)"
   ]
  },
  {
   "cell_type": "code",
   "execution_count": null,
   "id": "f622c2de",
   "metadata": {
    "metadata": {}
   },
   "outputs": [],
   "source": [
    "outlier_dcekit = ad_dcekit.predict (X_test)"
   ]
  },
  {
   "cell_type": "code",
   "execution_count": null,
   "id": "1ea22834",
   "metadata": {
    "metadata": {}
   },
   "outputs": [],
   "source": [
    "joblib.dump(ad_dcekit, 'ad_model.joblib')"
   ]
  }
 ],
 "metadata": {
  "kernelspec": {
   "display_name": "Python 3",
   "language": "python",
   "name": "python3"
  },
  "language_info": {
   "codemirror_mode": {
    "name": "ipython",
    "version": 3
   },
   "file_extension": ".py",
   "mimetype": "text/x-python",
   "name": "python",
   "nbconvert_exporter": "python",
   "pygments_lexer": "ipython3",
   "version": "3.11.9"
  }
 },
 "nbformat": 4,
 "nbformat_minor": 5
}
